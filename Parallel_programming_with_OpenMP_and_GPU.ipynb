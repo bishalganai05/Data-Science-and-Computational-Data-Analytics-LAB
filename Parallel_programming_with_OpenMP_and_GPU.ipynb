{
  "nbformat": 4,
  "nbformat_minor": 0,
  "metadata": {
    "colab": {
      "provenance": []
    },
    "kernelspec": {
      "name": "python3",
      "display_name": "Python 3"
    },
    "language_info": {
      "name": "python"
    }
  },
  "cells": [
    {
      "cell_type": "code",
      "execution_count": null,
      "metadata": {
        "colab": {
          "base_uri": "https://localhost:8080/"
        },
        "id": "bRZQUFCBPHWm",
        "outputId": "ee199f9b-2cde-4141-83ee-4131b1c06d5c"
      },
      "outputs": [
        {
          "output_type": "stream",
          "name": "stdout",
          "text": [
            "Worker 0 is doing some work.Worker 2 is doing some work.Worker 1 is doing some work.Worker 3 is doing some work.\n",
            "\n",
            "\n",
            "\n"
          ]
        }
      ],
      "source": [
        "#Parallel Programming with OpenMP:\n",
        "import pymp\n",
        "def parallel_function(id):\n",
        "  print(f\"Thread {id} is running\")\n",
        "  with pymp.parallel(4) as p:\n",
        "    parallel_function(p.thread_num)\n",
        "import multiprocessing\n",
        "def worker_function(num):\n",
        "  print(f\"Worker {num} is doing some work.\")\n",
        "if __name__ == \"__main__\":\n",
        "  num_workers = 4\n",
        "  pool = multiprocessing.Pool(processes=num_workers)\n",
        "  pool.map(worker_function, range(num_workers))\n",
        "  pool.close()\n",
        "  pool.join()"
      ]
    },
    {
      "cell_type": "code",
      "source": [
        "#MLOps for Containers:\n",
        "FROM python:3.8\n",
        "WORKDIR /app\n",
        "COPY . /app\n",
        "RUN pip install -r requirements.txt\n",
        "CMD [\"python\", \"app.py\"]"
      ],
      "metadata": {
        "colab": {
          "base_uri": "https://localhost:8080/",
          "height": 140
        },
        "id": "2Etr9-1hRcHu",
        "outputId": "acef096b-9674-40aa-9018-5f23f2a7c872"
      },
      "execution_count": null,
      "outputs": [
        {
          "output_type": "error",
          "ename": "SyntaxError",
          "evalue": "ignored",
          "traceback": [
            "\u001b[0;36m  File \u001b[0;32m\"<ipython-input-9-16b9b7b2efb6>\"\u001b[0;36m, line \u001b[0;32m2\u001b[0m\n\u001b[0;31m    FROM python:3.8\u001b[0m\n\u001b[0m         ^\u001b[0m\n\u001b[0;31mSyntaxError\u001b[0m\u001b[0;31m:\u001b[0m invalid syntax\n"
          ]
        }
      ]
    },
    {
      "cell_type": "code",
      "source": [
        "#Continuous Deployment (CD) for ML Models:\n",
        "from flask import Flask, request, jsonify\n",
        "app = Flask(__name__)\n",
        "@app.route('/predict', methods=['POST'])\n",
        "def predict():\n",
        "  data = request.get_json()\n",
        "  # Implement model prediction logic here\n",
        "  prediction = 42 # Example prediction\n",
        "  return jsonify({'prediction': prediction})\n",
        "\n",
        "if __name__ == '__main__':\n",
        "  app.run(debug=True)"
      ],
      "metadata": {
        "colab": {
          "base_uri": "https://localhost:8080/"
        },
        "id": "l7bhEThfRylm",
        "outputId": "a2490b38-ad45-4baf-ee64-3ed204221a1c"
      },
      "execution_count": null,
      "outputs": [
        {
          "output_type": "stream",
          "name": "stdout",
          "text": [
            " * Serving Flask app '__main__'\n",
            " * Debug mode: on\n"
          ]
        },
        {
          "output_type": "stream",
          "name": "stderr",
          "text": [
            "INFO:werkzeug:\u001b[31m\u001b[1mWARNING: This is a development server. Do not use it in a production deployment. Use a production WSGI server instead.\u001b[0m\n",
            " * Running on http://127.0.0.1:5000\n",
            "INFO:werkzeug:\u001b[33mPress CTRL+C to quit\u001b[0m\n",
            "INFO:werkzeug: * Restarting with stat\n"
          ]
        }
      ]
    },
    {
      "cell_type": "code",
      "source": [
        "#Parallel Programming with Threading:\n",
        "import threading\n",
        "def print_numbers():\n",
        "  for i in range(1, 6):\n",
        "     print(i)\n",
        "def print_letters():\n",
        "  for letter in 'ABCDE':\n",
        "    print(letter)\n",
        "# Using threads for parallel execution\n",
        "thread1 = threading.Thread(target=print_numbers)\n",
        "thread2 = threading.Thread(target=print_letters)\n",
        "thread1.start()\n",
        "thread2.start()\n",
        "thread1.join()\n",
        "thread2.join()\n",
        "print(\"Threads have finished execution.\")"
      ],
      "metadata": {
        "colab": {
          "base_uri": "https://localhost:8080/"
        },
        "id": "Lu8ypsGdSGU-",
        "outputId": "722481c2-3c90-4ca3-9c31-124d8aaf7e1a"
      },
      "execution_count": null,
      "outputs": [
        {
          "output_type": "stream",
          "name": "stdout",
          "text": [
            "1\n",
            "2\n",
            "3\n",
            "4\n",
            "5\n",
            "A\n",
            "B\n",
            "C\n",
            "D\n",
            "E\n",
            "Threads have finished execution.\n"
          ]
        }
      ]
    }
  ]
}