{
  "nbformat": 4,
  "nbformat_minor": 0,
  "metadata": {
    "colab": {
      "provenance": []
    },
    "kernelspec": {
      "name": "python3",
      "display_name": "Python 3"
    },
    "language_info": {
      "name": "python"
    }
  },
  "cells": [
    {
      "cell_type": "code",
      "execution_count": null,
      "metadata": {
        "colab": {
          "base_uri": "https://localhost:8080/"
        },
        "id": "eZ-a7KNdZaOf",
        "outputId": "e76762f5-fbb9-432c-a133-29e1cef9ee56"
      },
      "outputs": [
        {
          "output_type": "stream",
          "name": "stdout",
          "text": [
            "Mean: 39.166666666666664\n",
            "Median: 38.5\n",
            "Standard Deviation: 18.898118660038328\n"
          ]
        }
      ],
      "source": [
        "#Descriptive Statistics:\n",
        "import numpy as np\n",
        "data = [23, 45, 56, 32, 67, 12]\n",
        "mean = np.mean(data)\n",
        "median = np.median(data)\n",
        "std_dev = np.std(data)\n",
        "print(\"Mean:\", mean)\n",
        "print(\"Median:\", median)\n",
        "print(\"Standard Deviation:\", std_dev)"
      ]
    },
    {
      "cell_type": "code",
      "source": [
        "#Probability and Random Variables:\n",
        "import random\n",
        "# Simulating the roll of a fair six-sided die\n",
        "outcomes = [1, 2, 3, 4, 5, 6]\n",
        "result = random.choice(outcomes)\n",
        "print(\"Randomly rolled:\", result)"
      ],
      "metadata": {
        "colab": {
          "base_uri": "https://localhost:8080/"
        },
        "id": "qK0SnF3SZlmb",
        "outputId": "3e7c7b75-d41a-485b-c176-30257c312f36"
      },
      "execution_count": null,
      "outputs": [
        {
          "output_type": "stream",
          "name": "stdout",
          "text": [
            "Randomly rolled: 1\n"
          ]
        }
      ]
    },
    {
      "cell_type": "code",
      "source": [
        "#PDF (Probability Density Function) and PMF (Probability Mass Function):\n",
        "from scipy.stats import norm, poisson\n",
        "# PDF of the normal distribution\n",
        "mu, sigma = 0, 1\n",
        "x = 1.0\n",
        "pdf_value = norm.pdf(x, loc=mu, scale=sigma)\n",
        "print(\"PDF at x=1:\", pdf_value)\n",
        "# PMF of the Poisson distribution\n",
        "lambda_ = 3.0\n",
        "k = 2\n",
        "pmf_value = poisson.pmf(k, lambda_)\n",
        "print(\"PMF at k=2:\", pmf_value)"
      ],
      "metadata": {
        "colab": {
          "base_uri": "https://localhost:8080/"
        },
        "id": "k-32GADhZsQk",
        "outputId": "b3c7fc79-2e91-42a6-bb89-9bbf96bfdbb1"
      },
      "execution_count": null,
      "outputs": [
        {
          "output_type": "stream",
          "name": "stdout",
          "text": [
            "PDF at x=1: 0.24197072451914337\n",
            "PMF at k=2: 0.22404180765538775\n"
          ]
        }
      ]
    },
    {
      "cell_type": "code",
      "source": [
        "#Independence:\n",
        "from random import random\n",
        "# Simulating two independent coin flips\n",
        "coin1 = 'H' if random() < 0.5 else 'T'\n",
        "coin2 = 'H' if random() < 0.5 else 'T'\n",
        "print(\"Coin 1:\", coin1)\n",
        "print(\"Coin 2:\", coin2)"
      ],
      "metadata": {
        "colab": {
          "base_uri": "https://localhost:8080/"
        },
        "id": "dzAib5OFZxSN",
        "outputId": "726ec5db-f192-4afd-c6d5-b8b1792e2b0a"
      },
      "execution_count": null,
      "outputs": [
        {
          "output_type": "stream",
          "name": "stdout",
          "text": [
            "Coin 1: H\n",
            "Coin 2: T\n"
          ]
        }
      ]
    },
    {
      "cell_type": "code",
      "source": [
        "#Normal Distribution and Z-scores:\n",
        "from scipy.stats import norm\n",
        "# Generate random data following a normal distribution\n",
        "data = norm.rvs(loc=0, scale=1, size=100)\n",
        "# Calculate the Z-score for a given value\n",
        "value = 1.5\n",
        "z_score = (value - data.mean()) / data.std()\n",
        "print(\"Z-Score for\", value, \"is\", z_score)"
      ],
      "metadata": {
        "colab": {
          "base_uri": "https://localhost:8080/"
        },
        "id": "JDVaiXONZ1pj",
        "outputId": "32955eaa-c2c7-4b75-c963-13c33b88d271"
      },
      "execution_count": null,
      "outputs": [
        {
          "output_type": "stream",
          "name": "stdout",
          "text": [
            "Z-Score for 1.5 is 1.4001664679215817\n"
          ]
        }
      ]
    },
    {
      "cell_type": "code",
      "source": [
        "#Confidence Intervals:\n",
        "import numpy as np\n",
        "from scipy.stats import norm\n",
        "data = np.array([23, 45, 56, 32, 67, 12])\n",
        "confidence_level = 0.95\n",
        "n = len(data)\n",
        "mean = data.mean()\n",
        "std_dev = data.std()\n",
        "margin_of_error = norm.ppf(1 - (1 - confidence_level) / 2) * (std_dev / np.sqrt(n))\n",
        "confidence_interval = (mean - margin_of_error, mean + margin_of_error)\n",
        "print(\"Confidence Interval (95%):\", confidence_interval)"
      ],
      "metadata": {
        "colab": {
          "base_uri": "https://localhost:8080/"
        },
        "id": "aRy9toGOaL6B",
        "outputId": "be04b121-f4cf-4606-d5b7-5c992916b8f8"
      },
      "execution_count": null,
      "outputs": [
        {
          "output_type": "stream",
          "name": "stdout",
          "text": [
            "Confidence Interval (95%): (24.045300243978968, 54.28803308935436)\n"
          ]
        }
      ]
    },
    {
      "cell_type": "code",
      "source": [
        "#Hypothesis Testing:\n",
        "from scipy.stats import ttest_ind\n",
        "# Example t-test for two independent samples\n",
        "sample1 = [23, 45, 56, 32, 67]\n",
        "sample2 = [12, 34, 27, 48, 62]\n",
        "t_stat, p_value = ttest_ind(sample1, sample2)\n",
        "print(\"t-statistic:\", t_stat)\n",
        "print(\"p-value:\", p_value)"
      ],
      "metadata": {
        "colab": {
          "base_uri": "https://localhost:8080/"
        },
        "id": "ZQ94pQQxaQ2w",
        "outputId": "3b62fc8b-0b33-41d9-ea12-9d9777e99aef"
      },
      "execution_count": null,
      "outputs": [
        {
          "output_type": "stream",
          "name": "stdout",
          "text": [
            "t-statistic: 0.6839355745934086\n",
            "p-value: 0.513335548069798\n"
          ]
        }
      ]
    }
  ]
}