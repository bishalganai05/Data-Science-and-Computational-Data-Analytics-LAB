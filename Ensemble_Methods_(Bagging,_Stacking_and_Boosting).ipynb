{
  "nbformat": 4,
  "nbformat_minor": 0,
  "metadata": {
    "colab": {
      "provenance": []
    },
    "kernelspec": {
      "name": "python3",
      "display_name": "Python 3"
    },
    "language_info": {
      "name": "python"
    }
  },
  "cells": [
    {
      "cell_type": "code",
      "execution_count": null,
      "metadata": {
        "id": "5nXgQlu3Ood9"
      },
      "outputs": [],
      "source": [
        "# i) Bagging (Random Forest):\n",
        "from sklearn.ensemble import RandomForestClassifier\n",
        "# Load and preprocess the data\n",
        "X, y = load_data()\n",
        "X_train, X_test, y_train, y_test = train_test_split(X, y, test_size=0.2)\n",
        "# Create and train a Random Forest classifier\n",
        "model = RandomForestClassifier(n_estimators=100)\n",
        "model.fit(X_train, y_train)\n",
        "# Make predictions\n",
        "predictions = model.predict(X_test)"
      ]
    },
    {
      "cell_type": "code",
      "source": [
        "# ii) Stacking:\n",
        "from sklearn.ensemble import StackingClassifier\n",
        "from sklearn.linear_model import LogisticRegression\n",
        "from sklearn.svm import SVC\n",
        "# Create a list of base models\n",
        "base_models = [\n",
        "('svm', SVC(kernel='linear')), ('logistic', LogisticRegression())\n",
        "]\n",
        "# Create and train a stacked model\n",
        "model = StackingClassifier(estimators=base_models, final_estimator=LogisticRegression())\n",
        "model.fit(X_train, y_train)\n",
        "# Make predictions\n",
        "predictions = model.predict(X_test)"
      ],
      "metadata": {
        "id": "RCS5oIwsOsvL"
      },
      "execution_count": null,
      "outputs": []
    },
    {
      "cell_type": "code",
      "source": [],
      "metadata": {
        "id": "4fkqYW7COuxr"
      },
      "execution_count": null,
      "outputs": []
    }
  ]
}